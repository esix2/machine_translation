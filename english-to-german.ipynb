{
  "nbformat": 4,
  "nbformat_minor": 0,
  "metadata": {
    "colab": {
      "provenance": [],
      "authorship_tag": "ABX9TyPMN6t2eAtt83HfqC0RdO55",
      "include_colab_link": true
    },
    "kernelspec": {
      "name": "python3",
      "display_name": "Python 3"
    },
    "language_info": {
      "name": "python"
    }
  },
  "cells": [
    {
      "cell_type": "markdown",
      "metadata": {
        "id": "view-in-github",
        "colab_type": "text"
      },
      "source": [
        "<a href=\"https://colab.research.google.com/github/esix2/machine_translation/blob/main/english-to-german.ipynb\" target=\"_parent\"><img src=\"https://colab.research.google.com/assets/colab-badge.svg\" alt=\"Open In Colab\"/></a>"
      ]
    },
    {
      "cell_type": "markdown",
      "source": [
        "# A Mini Project for English-to-German machine translation"
      ],
      "metadata": {
        "id": "01YkZAVTSrYf"
      }
    },
    {
      "cell_type": "markdown",
      "source": [
        "## Data preparation"
      ],
      "metadata": {
        "id": "PHIR3GFOS4-S"
      }
    },
    {
      "cell_type": "code",
      "source": [
        "Importing and reading the dataset"
      ],
      "metadata": {
        "id": "aMYVsKWwTDob"
      },
      "execution_count": null,
      "outputs": []
    }
  ]
}
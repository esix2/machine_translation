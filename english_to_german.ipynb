{
  "nbformat": 4,
  "nbformat_minor": 0,
  "metadata": {
    "colab": {
      "provenance": [],
      "authorship_tag": "ABX9TyNJK4YriGeKFPqldgiMPuHg",
      "include_colab_link": true
    },
    "kernelspec": {
      "name": "python3",
      "display_name": "Python 3"
    },
    "language_info": {
      "name": "python"
    }
  },
  "cells": [
    {
      "cell_type": "markdown",
      "metadata": {
        "id": "view-in-github",
        "colab_type": "text"
      },
      "source": [
        "<a href=\"https://colab.research.google.com/github/esix2/machine_translation/blob/main/english_to_german.ipynb\" target=\"_parent\"><img src=\"https://colab.research.google.com/assets/colab-badge.svg\" alt=\"Open In Colab\"/></a>"
      ]
    },
    {
      "cell_type": "markdown",
      "source": [
        "# A Mini Project for English-to-German machine translation"
      ],
      "metadata": {
        "id": "01YkZAVTSrYf"
      }
    },
    {
      "cell_type": "markdown",
      "source": [
        "## Data preparation"
      ],
      "metadata": {
        "id": "PHIR3GFOS4-S"
      }
    },
    {
      "cell_type": "markdown",
      "source": [
        "Importing and reading the dataset"
      ],
      "metadata": {
        "id": "aMYVsKWwTDob"
      }
    }
  ]
}